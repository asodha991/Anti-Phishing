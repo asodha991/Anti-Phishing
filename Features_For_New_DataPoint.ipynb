{
 "cells": [
  {
   "cell_type": "code",
   "execution_count": 1,
   "metadata": {
    "id": "7xCHKKrGjyX0"
   },
   "outputs": [],
   "source": [
    "import os\n",
    "import requests\n",
    "from subprocess import *\n",
    "from bs4 import BeautifulSoup\n",
    "import json\n",
    "import base64"
   ]
  },
  {
   "cell_type": "code",
   "execution_count": 2,
   "metadata": {
    "colab": {
     "background_save": true
    },
    "id": "gp0lFugp2yMa"
   },
   "outputs": [],
   "source": [
    "import pandas as pd\n",
    "import numpy as np\n",
    "import matplotlib.pyplot as plt\n",
    "import seaborn as sns"
   ]
  },
  {
   "cell_type": "code",
   "execution_count": 3,
   "metadata": {
    "colab": {
     "background_save": true
    },
    "id": "2VEeW6cr2Squ"
   },
   "outputs": [],
   "source": [
    "# from google.colab import drive\n",
    "# drive.mount('/content/drive')"
   ]
  },
  {
   "cell_type": "markdown",
   "metadata": {
    "id": "1Yk3d3zJJomG"
   },
   "source": [
    "#EDA"
   ]
  },
  {
   "cell_type": "code",
   "execution_count": 4,
   "metadata": {
    "colab": {
     "background_save": true
    },
    "id": "isA-9M_a2tNc"
   },
   "outputs": [],
   "source": [
    "# Data= pd.read_csv('/content/drive/MyDrive/Phishing Dataset/dataset_full.csv')"
   ]
  },
  {
   "cell_type": "code",
   "execution_count": 5,
   "metadata": {
    "colab": {
     "background_save": true
    },
    "id": "drdoXKle2tKR"
   },
   "outputs": [],
   "source": [
    "# Data.describe()"
   ]
  },
  {
   "cell_type": "code",
   "execution_count": 6,
   "metadata": {
    "colab": {
     "background_save": true
    },
    "id": "y0X3YIM79i4x"
   },
   "outputs": [],
   "source": [
    "# Data.isnull().values.sum()"
   ]
  },
  {
   "cell_type": "code",
   "execution_count": 7,
   "metadata": {
    "colab": {
     "background_save": true
    },
    "id": "_Lh8QeUC9psj"
   },
   "outputs": [],
   "source": [
    "# Data.isnull().sum()"
   ]
  },
  {
   "cell_type": "code",
   "execution_count": 8,
   "metadata": {
    "colab": {
     "background_save": true
    },
    "id": "ODywDOjp2tHe"
   },
   "outputs": [],
   "source": [
    "# Data.head()"
   ]
  },
  {
   "cell_type": "code",
   "execution_count": 9,
   "metadata": {
    "colab": {
     "background_save": true
    },
    "id": "vdYjzXVgmtwr"
   },
   "outputs": [],
   "source": [
    "# #Lets see a the distribution of Length of URL Data\n",
    "# sns.set(rc={'figure.figsize':(15,5)})\n",
    "# fig = plt.figure()\n",
    "# sns.histplot(data=Data, x='length_url', bins=100)\n",
    "# plt.axvline(Data['length_url'].mean(), c='red', ls='-', lw=3, label='Mean Length')\n",
    "# plt.axvline(Data['length_url'].median(),c='blue',ls='-',lw=3, label='Median Length')\n",
    "# plt.title('Distribution of Length', fontsize=20, fontweight='bold')\n",
    "# plt.legend()\n",
    "# plt.show()\n"
   ]
  },
  {
   "cell_type": "code",
   "execution_count": 10,
   "metadata": {
    "colab": {
     "background_save": true
    },
    "id": "35JjB-XBovIx"
   },
   "outputs": [],
   "source": [
    "# print(\"Highest allowed Length\",Data['length_url'].mean() + 3*Data['length_url'].std())\n",
    "# print(\"Lowest allowed Length\",Data['length_url'].mean() - 3*Data['length_url'].std())"
   ]
  },
  {
   "cell_type": "code",
   "execution_count": 11,
   "metadata": {
    "colab": {
     "background_save": true
    },
    "id": "vjRxxOQ5n2Am"
   },
   "outputs": [],
   "source": [
    "# Data_n = Data[ (Data['length_url'] < 200)]"
   ]
  },
  {
   "cell_type": "code",
   "execution_count": 12,
   "metadata": {
    "colab": {
     "background_save": true
    },
    "id": "V-aIIL-Bo_1U"
   },
   "outputs": [],
   "source": [
    "#Lets see a the distribution of Length of URL Data\n",
    "# sns.set(rc={'figure.figsize':(15,5)})\n",
    "# fig = plt.figure()\n",
    "# sns.histplot(data=Data_n, x='length_url', bins=100)\n",
    "# plt.axvline(Data_n['length_url'].mean(), c='red', ls='-', lw=3, label='Mean Length')\n",
    "# plt.axvline(Data_n['length_url'].median(),c='blue',ls='-',lw=3, label='Median Length')\n",
    "# plt.title('Distribution of Length', fontsize=20, fontweight='bold')\n",
    "# plt.legend()\n",
    "# plt.show()"
   ]
  },
  {
   "cell_type": "code",
   "execution_count": 13,
   "metadata": {
    "colab": {
     "background_save": true
    },
    "id": "RKtnUH532tEn"
   },
   "outputs": [],
   "source": [
    "# plt.scatter(Data.length_url, Data.phishing)"
   ]
  },
  {
   "cell_type": "code",
   "execution_count": 14,
   "metadata": {
    "colab": {
     "background_save": true
    },
    "id": "YBrCpEydpWkm"
   },
   "outputs": [],
   "source": [
    "# #Let's start with just one variable to demonstrate\n",
    "# fig, ax = plt.subplots(1,2)\n",
    "# sns.boxplot(data=Data_n, x='phishing', y='qty_ip_resolved', ax=ax[0])\n",
    "# sns.histplot(Data_n, x=\"qty_ip_resolved\", hue=\"phishing\", kde=True, ax=ax[1])\n",
    "# plt.suptitle(\"phishing\", fontsize=20, fontweight='bold')\n",
    "# fig.show()"
   ]
  },
  {
   "cell_type": "code",
   "execution_count": 15,
   "metadata": {
    "colab": {
     "background_save": true
    },
    "id": "4adxKJoJ2s91"
   },
   "outputs": [],
   "source": [
    "# sns.countplot(x ='phishing', hue = \"qty_ip_resolved\", data = Data)"
   ]
  },
  {
   "cell_type": "code",
   "execution_count": 16,
   "metadata": {
    "colab": {
     "background_save": true
    },
    "id": "vIfCIKmkBT2B"
   },
   "outputs": [],
   "source": [
    "# Data.drop('url_len_range',\n",
    "#   axis='columns', inplace = True)"
   ]
  },
  {
   "cell_type": "code",
   "execution_count": 17,
   "metadata": {
    "colab": {
     "background_save": true
    },
    "id": "Cy9TMFgYARn8"
   },
   "outputs": [],
   "source": [
    "# url_len_range = pd.cut(Data.length_url,bins=[0,20,40,60,80,100,4000])\n",
    "# Data.insert(5,'url_len_range',url_len_range)"
   ]
  },
  {
   "cell_type": "code",
   "execution_count": 18,
   "metadata": {
    "colab": {
     "background_save": true
    },
    "id": "0V-xVcWlA_KG"
   },
   "outputs": [],
   "source": [
    "# sns.countplot(x ='phishing', hue = \"url_len_range\", data = Data)"
   ]
  },
  {
   "cell_type": "code",
   "execution_count": 19,
   "metadata": {
    "colab": {
     "background_save": true
    },
    "id": "NcYAezoQ89AS"
   },
   "outputs": [],
   "source": [
    "# Data.boxplot('length_url','phishing',rot = 0,figsize=(5,6))"
   ]
  },
  {
   "cell_type": "code",
   "execution_count": 20,
   "metadata": {
    "colab": {
     "background_save": true
    },
    "id": "1y9HYN0QFbxG"
   },
   "outputs": [],
   "source": [
    "# Data.boxplot('qty_at_url','phishing',rot = 0,figsize=(5,6))"
   ]
  },
  {
   "cell_type": "code",
   "execution_count": 21,
   "metadata": {
    "colab": {
     "background_save": true
    },
    "id": "wqEKjiLDECSW"
   },
   "outputs": [],
   "source": [
    "# sns.countplot(x ='phishing', hue = \"qty_at_url\", data = Data)"
   ]
  },
  {
   "cell_type": "code",
   "execution_count": 22,
   "metadata": {
    "colab": {
     "background_save": true
    },
    "id": "YDusq3mWHEfO"
   },
   "outputs": [],
   "source": [
    "# Data['phishing'].value_counts()"
   ]
  },
  {
   "cell_type": "code",
   "execution_count": 23,
   "metadata": {
    "colab": {
     "background_save": true
    },
    "id": "7cRT3t3b0PDl"
   },
   "outputs": [],
   "source": [
    "# likely_cat = {}\n",
    "# for var in Data.iloc[:,1:].columns:\n",
    "#     likely_cat[var] = 1.*Data[var].nunique()/Data[var].count() < 0.002 \n",
    "\n",
    "# num_cols = []\n",
    "# cat_cols = []\n",
    "# for col in likely_cat.keys():\n",
    "#     if (likely_cat[col] == False):\n",
    "#         num_cols.append(col)\n",
    "#     else:\n",
    "#         cat_cols.append(col)"
   ]
  },
  {
   "cell_type": "code",
   "execution_count": 24,
   "metadata": {
    "colab": {
     "background_save": true
    },
    "id": "V4nLJz1Z0teS"
   },
   "outputs": [],
   "source": [
    "# #Taking all columns except URL \n",
    "# corr = Data[num_cols].corr()\n",
    "\n",
    "# fig = plt.figure(figsize=(12,12),dpi=80)\n",
    "# mask = np.triu(np.ones_like(corr, dtype=bool))\n",
    "# sns.heatmap(corr, mask=mask, cmap='BuPu', robust=True, center=0,\n",
    "#             square=True, linewidths=.5)\n",
    "# plt.title('Correlation of Numerical(Continous) Features', fontsize=15)\n",
    "# plt.show()"
   ]
  },
  {
   "cell_type": "code",
   "execution_count": 25,
   "metadata": {
    "colab": {
     "background_save": true
    },
    "id": "mgqxE8Yi1N7l"
   },
   "outputs": [],
   "source": [
    "# df_distr =Data.groupby('phishing')[num_cols].mean().reset_index().T\n",
    "# df_distr.rename(columns={0:'0_Label',1:\"1_Label\"}, inplace=True)\n",
    "\n",
    "# #plt.style.use('ggplot')\n",
    "# plt.rcParams['axes.facecolor']='w'\n",
    "# ax = df_distr[1:-3][['0_Label','1_Label']].plot(kind='bar', title =\"Distribution of Average values across Target\", figsize=(12, 8), legend=True, fontsize=12)\n",
    "# ax.set_xlabel(\"Numerical Features\", fontsize=14)\n",
    "# ax.set_ylabel(\"Average Values\", fontsize=14)\n",
    "# #ax.set_ylim(0,500000)\n",
    "# plt.show()"
   ]
  },
  {
   "cell_type": "code",
   "execution_count": 26,
   "metadata": {
    "colab": {
     "background_save": true
    },
    "id": "jaiZC8L-l9bl"
   },
   "outputs": [],
   "source": [
    "# !pip install python-whois"
   ]
  },
  {
   "cell_type": "markdown",
   "metadata": {
    "id": "cph9l9OsJvqR"
   },
   "source": [
    "# Feature Extraction"
   ]
  },
  {
   "cell_type": "code",
   "execution_count": 27,
   "metadata": {
    "colab": {
     "base_uri": "https://localhost:8080/"
    },
    "id": "kNzVZ-RbaNFp",
    "outputId": "fbf540e8-a6fc-431b-91d8-728e613555a2"
   },
   "outputs": [
    {
     "name": "stdout",
     "output_type": "stream",
     "text": [
      "Collecting whois\n",
      "  Downloading whois-0.9.13.tar.gz (9.2 kB)\n",
      "Building wheels for collected packages: whois\n",
      "  Building wheel for whois (setup.py): started\n",
      "  Building wheel for whois (setup.py): finished with status 'done'\n",
      "  Created wheel for whois: filename=whois-0.9.13-py3-none-any.whl size=10090 sha256=ebdd95b126132fea1c0305c159dbd1d9307ae23773f1e08ede2227a7b68209e6\n",
      "  Stored in directory: c:\\users\\asodh\\appdata\\local\\pip\\cache\\wheels\\e5\\05\\66\\bb7e2a3840045aad2b1c08e7da85f471ac86514f000cf93f4f\n",
      "Successfully built whois\n",
      "Installing collected packages: whois\n",
      "Successfully installed whois-0.9.13\n"
     ]
    }
   ],
   "source": [
    "!pip install whois"
   ]
  },
  {
   "cell_type": "code",
   "execution_count": 28,
   "metadata": {
    "id": "AFtdCl7UlMI_"
   },
   "outputs": [],
   "source": [
    "from urllib.parse import urlparse\n",
    "# import favicon\n",
    "import xml.etree.ElementTree as ET \n",
    "# import tldextract\n",
    "import datetime\n",
    "from dateutil.relativedelta import relativedelta\n",
    "import whois"
   ]
  },
  {
   "cell_type": "code",
   "execution_count": 29,
   "metadata": {
    "id": "7f3EWJno3oi4"
   },
   "outputs": [],
   "source": [
    "Normal_url ='http://intego3.info/EXEL/index.php'\n",
    "phish_url = 'https://www.computerhope.com/issues/ch000254.htm'"
   ]
  },
  {
   "cell_type": "markdown",
   "metadata": {
    "id": "VUo8nQaogpOR"
   },
   "source": [
    "1. Check IP and Hexa"
   ]
  },
  {
   "cell_type": "code",
   "execution_count": 30,
   "metadata": {
    "id": "mYzMjjaIgm5g"
   },
   "outputs": [],
   "source": [
    "def to_find_having_ip_add(url):\n",
    "  import string\n",
    "  index = url.find(\"://\")\n",
    "  split_url = url[index+3:]\n",
    "  # print(split_url)\n",
    "  index = split_url.find(\"/\")\n",
    "  split_url = split_url[:index]\n",
    "  # print(split_url)\n",
    "  split_url = split_url.replace(\".\", \"\")\n",
    "  # print(split_url)\n",
    "  counter_hex = 0\n",
    "  for i in split_url:\n",
    "    if i in string.hexdigits:\n",
    "      counter_hex +=1\n",
    "\n",
    "  total_len = len(split_url)\n",
    "  having_IP_Address = 1\n",
    "  if counter_hex >= total_len:\n",
    "    having_IP_Address = -1\n",
    "\n",
    "  return having_IP_Address"
   ]
  },
  {
   "cell_type": "code",
   "execution_count": 31,
   "metadata": {
    "colab": {
     "base_uri": "https://localhost:8080/"
    },
    "id": "fSxb3W5ixU8i",
    "outputId": "5ecfe0bd-8621-4616-94c1-99d0274ea368"
   },
   "outputs": [
    {
     "name": "stdout",
     "output_type": "stream",
     "text": [
      "1\n",
      "1\n"
     ]
    }
   ],
   "source": [
    "print(to_find_having_ip_add(Normal_url))\n",
    "print(to_find_having_ip_add(phish_url))"
   ]
  },
  {
   "cell_type": "markdown",
   "metadata": {
    "id": "xtJJfoavg0Z-"
   },
   "source": [
    "2. URL_len"
   ]
  },
  {
   "cell_type": "code",
   "execution_count": 32,
   "metadata": {
    "id": "ZE7GfdR-g6MT"
   },
   "outputs": [],
   "source": [
    "def to_find_url_len(url):\n",
    "  URL_Length = 1\n",
    "  # print(len(url))\n",
    "  if len(url)>=75:\n",
    "    URL_Length = -1\n",
    "  elif len(url)>=54 and len(url)<=74:\n",
    "    URL_length = 0\n",
    "  \n",
    "  return URL_Length"
   ]
  },
  {
   "cell_type": "code",
   "execution_count": 33,
   "metadata": {
    "colab": {
     "base_uri": "https://localhost:8080/"
    },
    "id": "hLCH7V-X4lhF",
    "outputId": "ec5c1f9f-6a3a-4251-b6b8-1083d45fce44"
   },
   "outputs": [
    {
     "name": "stdout",
     "output_type": "stream",
     "text": [
      "1\n",
      "1\n"
     ]
    }
   ],
   "source": [
    "print(to_find_url_len(Normal_url))\n",
    "print(to_find_url_len(phish_url))"
   ]
  },
  {
   "cell_type": "markdown",
   "metadata": {
    "id": "mLfnkcyMPeEf"
   },
   "source": [
    "3. Shortened URL extraction"
   ]
  },
  {
   "cell_type": "code",
   "execution_count": 34,
   "metadata": {
    "id": "ul5HHI_Yj4aR"
   },
   "outputs": [],
   "source": [
    "def get_complete_URL(shortened_url):\n",
    "  command_stdout = Popen(['curl', shortened_url], stdout=PIPE).communicate()[0]\n",
    "  output = command_stdout.decode('utf-8')\n",
    "  href_index = output.find(\"href=\")\n",
    "  if href_index == -1:\n",
    "    href_index = output.find(\"HREF=\")\n",
    "  splitted_ = output[href_index:].split('\"')\n",
    "  expanded_url = splitted_[1]\n",
    "  return expanded_url\n"
   ]
  },
  {
   "cell_type": "code",
   "execution_count": 35,
   "metadata": {
    "id": "VOSMi56Q5Qw5"
   },
   "outputs": [],
   "source": [
    "  # command_stdout = Popen(['curl', shortened_url], stdout=PIPE).communicate()[0]\n",
    "  # output = command_stdout.decode('utf-8')\n",
    "  # href_index = output.find(\"href=\")\n",
    "  # if href_index == -1:\n",
    "  #   href_index = output.find(\"HREF=\")\n",
    "  # splitted_ = output[href_index:].split('\"')\n",
    "  # expanded_url = splitted_[1]\n",
    "  # return expanded_url"
   ]
  },
  {
   "cell_type": "code",
   "execution_count": 36,
   "metadata": {
    "id": "BpaoRcFDycjT"
   },
   "outputs": [],
   "source": [
    "# print(get_complete_URL(Normal_url))\n",
    "# print(get_complete_URL(phish_url))"
   ]
  },
  {
   "cell_type": "code",
   "execution_count": 37,
   "metadata": {
    "id": "eQhQ8r2vIWyT"
   },
   "outputs": [],
   "source": [
    "\n",
    "def check_for_shortened_url(url):\n",
    "  famous_short_urls = [\"bit.ly\", \"tinyurl.com\", \"goo.gl\",\n",
    "                       \"rebrand.ly\", \"t.co\", \"youtu.be\",\n",
    "                       \"ow.ly\", \"w.wiki\", \"is.gd\"]\n",
    "\n",
    "  # domain_of_url = url.split(\"://\")[1]\n",
    "  domain_of_url = url.split(\"/\")[0]\n",
    "  status = 1\n",
    "  if domain_of_url in famous_short_urls:\n",
    "    status = -1\n",
    "\n",
    "  complete_url = None\n",
    "  if status == -1:\n",
    "    complete_url = get_complete_URL(url)\n",
    "\n",
    "  return (status, complete_url)"
   ]
  },
  {
   "cell_type": "code",
   "execution_count": 38,
   "metadata": {
    "colab": {
     "base_uri": "https://localhost:8080/"
    },
    "id": "kNMdtF5F5vI5",
    "outputId": "c77cd2dc-eac1-4fac-cf82-c0f014d7845c"
   },
   "outputs": [
    {
     "data": {
      "text/plain": [
       "(1, None)"
      ]
     },
     "execution_count": 38,
     "metadata": {},
     "output_type": "execute_result"
    }
   ],
   "source": [
    "check_for_shortened_url(phish_url)"
   ]
  },
  {
   "cell_type": "code",
   "execution_count": 39,
   "metadata": {
    "colab": {
     "base_uri": "https://localhost:8080/"
    },
    "id": "3mR8S7TqzHDT",
    "outputId": "3aa68ad7-0662-413f-df0a-d18620a65b8d"
   },
   "outputs": [
    {
     "data": {
      "text/plain": [
       "(1, None)"
      ]
     },
     "execution_count": 39,
     "metadata": {},
     "output_type": "execute_result"
    }
   ],
   "source": [
    "check_for_shortened_url(Normal_url)"
   ]
  },
  {
   "cell_type": "markdown",
   "metadata": {
    "id": "nTjLwBclhCYX"
   },
   "source": [
    "4. @ in URL"
   ]
  },
  {
   "cell_type": "code",
   "execution_count": 40,
   "metadata": {
    "id": "RnEoUijohIUD"
   },
   "outputs": [],
   "source": [
    "def to_find_at(url):\n",
    "  label = 1\n",
    "  index = url.find(\"@\")\n",
    "  if index!=-1:\n",
    "    label = -1\n",
    "  \n",
    "  return label"
   ]
  },
  {
   "cell_type": "code",
   "execution_count": 41,
   "metadata": {
    "colab": {
     "base_uri": "https://localhost:8080/"
    },
    "id": "A1gVXsaa5zWx",
    "outputId": "79e8d375-64cb-4c51-c3dc-86957e1a2bda"
   },
   "outputs": [
    {
     "name": "stdout",
     "output_type": "stream",
     "text": [
      "1\n",
      "1\n"
     ]
    }
   ],
   "source": [
    "print(to_find_at(Normal_url))\n",
    "print(to_find_at(phish_url))"
   ]
  },
  {
   "cell_type": "markdown",
   "metadata": {
    "id": "cydIeKkjhMak"
   },
   "source": [
    "5. Redirect"
   ]
  },
  {
   "cell_type": "code",
   "execution_count": 42,
   "metadata": {
    "id": "_uuHCvxvhMM_"
   },
   "outputs": [],
   "source": [
    "def to_find_redirect(url):\n",
    "  index = url.find(\"://\")\n",
    "  split_url = url[index+3:]\n",
    "  label = 1  \n",
    "  index = split_url.find(\"//\")\n",
    "  if index!=-1:\n",
    "    label = -1\n",
    "  \n",
    "  return label"
   ]
  },
  {
   "cell_type": "code",
   "execution_count": 43,
   "metadata": {
    "colab": {
     "base_uri": "https://localhost:8080/"
    },
    "id": "GasLQo0L6B9s",
    "outputId": "fd2025d5-f9e3-45b3-bcdf-b66ba2a1f21c"
   },
   "outputs": [
    {
     "name": "stdout",
     "output_type": "stream",
     "text": [
      "1\n",
      "1\n"
     ]
    }
   ],
   "source": [
    "print(to_find_redirect(Normal_url))\n",
    "print(to_find_redirect(phish_url))"
   ]
  },
  {
   "cell_type": "markdown",
   "metadata": {
    "id": "l1TAbBvshVGJ"
   },
   "source": [
    "6. \"-\" in domain (Prefix_suffix)"
   ]
  },
  {
   "cell_type": "code",
   "execution_count": 44,
   "metadata": {
    "id": "XBV-iQeVhUCm"
   },
   "outputs": [],
   "source": [
    "def to_find_prefix(url):\n",
    "  index = url.find(\"://\")\n",
    "  split_url = url[index+3:]\n",
    "  # print(split_url)\n",
    "  index = split_url.find(\"/\")\n",
    "  split_url = split_url[:index]\n",
    "  # print(split_url)\n",
    "  label = 1\n",
    "  index = split_url.find(\"-\")\n",
    "  # print(index)\n",
    "  if index!=-1:\n",
    "    label = -1\n",
    "  \n",
    "  return label"
   ]
  },
  {
   "cell_type": "code",
   "execution_count": 45,
   "metadata": {
    "colab": {
     "base_uri": "https://localhost:8080/"
    },
    "id": "3cBzM5Hf6Uny",
    "outputId": "96ce4fec-e6f2-426e-f4da-cc6310956a5b"
   },
   "outputs": [
    {
     "name": "stdout",
     "output_type": "stream",
     "text": [
      "1\n",
      "1\n"
     ]
    }
   ],
   "source": [
    "print(to_find_prefix(Normal_url))\n",
    "print(to_find_prefix(phish_url))"
   ]
  },
  {
   "cell_type": "markdown",
   "metadata": {
    "id": "wlA8nHt0hiIL"
   },
   "source": [
    "7. Multi-domains presence"
   ]
  },
  {
   "cell_type": "code",
   "execution_count": 46,
   "metadata": {
    "id": "yhjguSc6hiwD"
   },
   "outputs": [],
   "source": [
    "def to_find_multi_domains(url):\n",
    "  url = url.split(\"://\")[1]\n",
    "  url = url.split(\"/\")[0]\n",
    "  index = url.find(\"www.\")\n",
    "  split_url = url\n",
    "  if index!=-1:\n",
    "    split_url = url[index+4:]\n",
    "  # print(split_url)\n",
    "  index = split_url.rfind(\".\")\n",
    "  # print(index)\n",
    "  if index!=-1:\n",
    "    split_url = split_url[:index]\n",
    "  # print(split_url)\n",
    "  counter = 0\n",
    "  for i in split_url:\n",
    "    if i==\".\":\n",
    "      counter+=1\n",
    "  \n",
    "  label = 1\n",
    "  if counter==2:\n",
    "    label = 0\n",
    "  elif counter >=3:\n",
    "    label = -1\n",
    "  \n",
    "  return label"
   ]
  },
  {
   "cell_type": "code",
   "execution_count": 47,
   "metadata": {
    "colab": {
     "base_uri": "https://localhost:8080/"
    },
    "id": "nSnmuwu86uT6",
    "outputId": "573c07bf-93e5-416d-c157-11d26bde4825"
   },
   "outputs": [
    {
     "name": "stdout",
     "output_type": "stream",
     "text": [
      "1\n",
      "1\n"
     ]
    }
   ],
   "source": [
    "print(to_find_multi_domains(Normal_url))\n",
    "print(to_find_multi_domains(phish_url))"
   ]
  },
  {
   "cell_type": "markdown",
   "metadata": {
    "id": "aK4oDs2EhrqQ"
   },
   "source": [
    "8. Authority"
   ]
  },
  {
   "cell_type": "code",
   "execution_count": 2,
   "metadata": {
    "id": "-rTWfx98hrVD"
   },
   "outputs": [],
   "source": [
    "def to_find_authority(url):\n",
    "  index_https = url.find(\"https://\")\n",
    "  valid_auth = [\"GeoTrust\", \"GoDaddy\", \"Network Solutions\", \"Thawte\", \"Comodo\", \"Doster\" , \"VeriSign\", \"LinkedIn\", \"Sectigo\",\n",
    "                \"Symantec\", \"DigiCert\", \"Network Solutions\", \"RapidSSLonline\", \"SSL.com\", \"Entrust Datacard\", \"Google\", \"Facebook\"]\n",
    "  \n",
    "  cmd = \"curl -vvI \" + url\n",
    "\n",
    "  stdout = Popen(cmd, shell=True, stderr=PIPE, env={} )\n",
    "  # print(stdout)\n",
    "  output = stdout.read()\n",
    "  # print(output)\n",
    "  std_out = output.decode('UTF-8',errors=\"ignore\" )\n",
    "  # print(std_out)\n",
    "  index = std_out.find(\"O=\")\n",
    "\n",
    "  split = std_out[index+2:]\n",
    "  index_sp = split.find(\" \")\n",
    "  cur = split[:index_sp]\n",
    "  \n",
    "  index_sp = cur.find(\",\")\n",
    "  if index_sp!=-1:\n",
    "    cur = cur[:index_sp]\n",
    "  # print(cur)\n",
    "  label = -1\n",
    "  if cur in valid_auth and index_https!=-1:\n",
    "    label = 1\n",
    "  \n",
    "  return label"
   ]
  },
  {
   "cell_type": "code",
   "execution_count": 54,
   "metadata": {},
   "outputs": [
    {
     "name": "stdout",
     "output_type": "stream",
     "text": [
      "Collecting py2exeNote: you may need to restart the kernel to use updated packages.\n",
      "\n",
      "  Downloading py2exe-0.11.0.1-cp39-cp39-win_amd64.whl (166 kB)\n",
      "Collecting cachetools\n",
      "  Downloading cachetools-5.0.0-py3-none-any.whl (9.1 kB)\n",
      "Collecting pefile\n",
      "  Downloading pefile-2021.9.3.tar.gz (72 kB)\n",
      "Requirement already satisfied: future in c:\\users\\asodh\\anaconda3\\lib\\site-packages (from pefile->py2exe) (0.18.2)\n",
      "Building wheels for collected packages: pefile\n",
      "  Building wheel for pefile (setup.py): started\n",
      "  Building wheel for pefile (setup.py): finished with status 'done'\n",
      "  Created wheel for pefile: filename=pefile-2021.9.3-py3-none-any.whl size=68844 sha256=16d6f66d642fa92bc50673aed194c98cfc4ba61c35916a1859ae5b3e1f32769b\n",
      "  Stored in directory: c:\\users\\asodh\\appdata\\local\\pip\\cache\\wheels\\05\\42\\e9\\7d0273e82936b525e10e4080595cd0aad0b3481d78b5a3aecc\n",
      "Successfully built pefile\n",
      "Installing collected packages: pefile, cachetools, py2exe\n",
      "Successfully installed cachetools-5.0.0 pefile-2021.9.3 py2exe-0.11.0.1\n"
     ]
    }
   ],
   "source": [
    "pip install py2exe"
   ]
  },
  {
   "cell_type": "code",
   "execution_count": 4,
   "metadata": {},
   "outputs": [
    {
     "ename": "NameError",
     "evalue": "name 'cmd' is not defined",
     "output_type": "error",
     "traceback": [
      "\u001b[1;31m---------------------------------------------------------------------------\u001b[0m",
      "\u001b[1;31mNameError\u001b[0m                                 Traceback (most recent call last)",
      "\u001b[1;32m~\\AppData\\Local\\Temp/ipykernel_11988/2664457427.py\u001b[0m in \u001b[0;36m<module>\u001b[1;34m\u001b[0m\n\u001b[0;32m      1\u001b[0m \u001b[1;32mimport\u001b[0m \u001b[0msubprocess\u001b[0m\u001b[1;33m\u001b[0m\u001b[1;33m\u001b[0m\u001b[0m\n\u001b[1;32m----> 2\u001b[1;33m \u001b[0msubprocess\u001b[0m\u001b[1;33m.\u001b[0m\u001b[0mPopen\u001b[0m\u001b[1;33m(\u001b[0m\u001b[0mcmd\u001b[0m\u001b[1;33m,\u001b[0m \u001b[0mstderr\u001b[0m\u001b[1;33m=\u001b[0m\u001b[0msubprocess\u001b[0m\u001b[1;33m.\u001b[0m\u001b[0mSTDOUT\u001b[0m\u001b[1;33m,\u001b[0m \u001b[0mstdout\u001b[0m\u001b[1;33m=\u001b[0m\u001b[0msubprocess\u001b[0m\u001b[1;33m.\u001b[0m\u001b[0mPIPE\u001b[0m\u001b[1;33m)\u001b[0m\u001b[1;33m\u001b[0m\u001b[1;33m\u001b[0m\u001b[0m\n\u001b[0m",
      "\u001b[1;31mNameError\u001b[0m: name 'cmd' is not defined"
     ]
    }
   ],
   "source": [
    "import subprocess\n",
    "subprocess.Popen(cmd, stderr=subprocess.STDOUT, stdout=subprocess.PIPE)"
   ]
  },
  {
   "cell_type": "code",
   "execution_count": 3,
   "metadata": {
    "colab": {
     "base_uri": "https://localhost:8080/"
    },
    "id": "oV5Gb7eZqBhr",
    "outputId": "8b2c8df7-b4a8-437a-972b-9fbc52630932"
   },
   "outputs": [
    {
     "ename": "NameError",
     "evalue": "name 'Popen' is not defined",
     "output_type": "error",
     "traceback": [
      "\u001b[1;31m---------------------------------------------------------------------------\u001b[0m",
      "\u001b[1;31mNameError\u001b[0m                                 Traceback (most recent call last)",
      "\u001b[1;32m~\\AppData\\Local\\Temp/ipykernel_11988/1900636412.py\u001b[0m in \u001b[0;36m<module>\u001b[1;34m\u001b[0m\n\u001b[1;32m----> 1\u001b[1;33m \u001b[0mprint\u001b[0m\u001b[1;33m(\u001b[0m\u001b[0mto_find_authority\u001b[0m\u001b[1;33m(\u001b[0m\u001b[1;34mr'https://www.weibull.com/hotwire/issue88/relbasics88.htm'\u001b[0m\u001b[1;33m)\u001b[0m\u001b[1;33m)\u001b[0m\u001b[1;33m\u001b[0m\u001b[1;33m\u001b[0m\u001b[0m\n\u001b[0m",
      "\u001b[1;32m~\\AppData\\Local\\Temp/ipykernel_11988/558293862.py\u001b[0m in \u001b[0;36mto_find_authority\u001b[1;34m(url)\u001b[0m\n\u001b[0;32m      6\u001b[0m   \u001b[0mcmd\u001b[0m \u001b[1;33m=\u001b[0m \u001b[1;34m\"curl -vvI \"\u001b[0m \u001b[1;33m+\u001b[0m \u001b[0murl\u001b[0m\u001b[1;33m\u001b[0m\u001b[1;33m\u001b[0m\u001b[0m\n\u001b[0;32m      7\u001b[0m \u001b[1;33m\u001b[0m\u001b[0m\n\u001b[1;32m----> 8\u001b[1;33m   \u001b[0mstdout\u001b[0m \u001b[1;33m=\u001b[0m \u001b[0mPopen\u001b[0m\u001b[1;33m(\u001b[0m\u001b[0mcmd\u001b[0m\u001b[1;33m,\u001b[0m \u001b[0mshell\u001b[0m\u001b[1;33m=\u001b[0m\u001b[1;32mTrue\u001b[0m\u001b[1;33m,\u001b[0m \u001b[0mstderr\u001b[0m\u001b[1;33m=\u001b[0m\u001b[0mPIPE\u001b[0m\u001b[1;33m,\u001b[0m \u001b[0menv\u001b[0m\u001b[1;33m=\u001b[0m\u001b[1;33m{\u001b[0m\u001b[1;33m}\u001b[0m \u001b[1;33m)\u001b[0m\u001b[1;33m\u001b[0m\u001b[1;33m\u001b[0m\u001b[0m\n\u001b[0m\u001b[0;32m      9\u001b[0m   \u001b[1;31m# print(stdout)\u001b[0m\u001b[1;33m\u001b[0m\u001b[1;33m\u001b[0m\u001b[0m\n\u001b[0;32m     10\u001b[0m   \u001b[0moutput\u001b[0m \u001b[1;33m=\u001b[0m \u001b[0mstdout\u001b[0m\u001b[1;33m.\u001b[0m\u001b[0mread\u001b[0m\u001b[1;33m(\u001b[0m\u001b[1;33m)\u001b[0m\u001b[1;33m\u001b[0m\u001b[1;33m\u001b[0m\u001b[0m\n",
      "\u001b[1;31mNameError\u001b[0m: name 'Popen' is not defined"
     ]
    }
   ],
   "source": [
    "print(to_find_authority(r'https://www.weibull.com/hotwire/issue88/relbasics88.htm'))"
   ]
  },
  {
   "cell_type": "code",
   "execution_count": null,
   "metadata": {
    "colab": {
     "base_uri": "https://localhost:8080/"
    },
    "id": "3b3xDs4zYiwL",
    "outputId": "4ea68cdc-d1f8-4610-f374-55a12c75b1ac"
   },
   "outputs": [],
   "source": [
    "print(to_find_authority(Normal_url))\n",
    "# print(to_find_authority(phish_url))"
   ]
  },
  {
   "cell_type": "markdown",
   "metadata": {
    "id": "RuM2Ca_pkMmZ"
   },
   "source": [
    "9. Domain registration Length"
   ]
  },
  {
   "cell_type": "code",
   "execution_count": null,
   "metadata": {
    "colab": {
     "base_uri": "https://localhost:8080/"
    },
    "id": "1wQ7A99o8Lbk",
    "outputId": "afab9127-7cb3-49e4-b566-da8d930b9f08"
   },
   "outputs": [],
   "source": [
    "!pip install tldextract"
   ]
  },
  {
   "cell_type": "code",
   "execution_count": null,
   "metadata": {
    "id": "vi6NlRcA8Hpl"
   },
   "outputs": [],
   "source": [
    "import tldextract"
   ]
  },
  {
   "cell_type": "code",
   "execution_count": null,
   "metadata": {
    "id": "h_aacQCIkNGL"
   },
   "outputs": [],
   "source": [
    "def dregisterlen(u):\n",
    "    extract_res = tldextract.extract(u)\n",
    "    ul = extract_res.domain + \".\" + extract_res.suffix\n",
    "    try:\n",
    "        wres = whois.whois(u)\n",
    "        f = wres[\"Creation Date\"][0]\n",
    "        s = wres[\"Registry Expiry Date\"][0]\n",
    "        if(s>f+relativedelta(months=+12)):\n",
    "            return 1\n",
    "        else:\n",
    "            return -1\n",
    "    except:\n",
    "        return -1"
   ]
  },
  {
   "cell_type": "code",
   "execution_count": null,
   "metadata": {
    "colab": {
     "base_uri": "https://localhost:8080/"
    },
    "id": "wkD7yUqc70oi",
    "outputId": "d98cec3f-1b07-4553-d752-1e3105fe8aec"
   },
   "outputs": [],
   "source": [
    "print(dregisterlen(Normal_url))\n",
    "print(dregisterlen(phish_url))"
   ]
  },
  {
   "cell_type": "markdown",
   "metadata": {
    "id": "sFJBqMCdE9Hu"
   },
   "source": [
    "10. Favicon"
   ]
  },
  {
   "cell_type": "code",
   "execution_count": null,
   "metadata": {
    "colab": {
     "base_uri": "https://localhost:8080/"
    },
    "id": "HjBaoT3_FDaf",
    "outputId": "15398cbf-05e8-4dde-e5b9-6c793cffa43a"
   },
   "outputs": [],
   "source": [
    "!pip install favicon"
   ]
  },
  {
   "cell_type": "code",
   "execution_count": null,
   "metadata": {
    "id": "0wsph4g8CcCD"
   },
   "outputs": [],
   "source": [
    "import requests\n",
    "import favicon"
   ]
  },
  {
   "cell_type": "code",
   "execution_count": null,
   "metadata": {
    "id": "kez58ku-HGlA"
   },
   "outputs": [],
   "source": [
    "def check_favicon(url):\n",
    "  extract_res = tldextract.extract(url)\n",
    "  url_ref = extract_res.domain\n",
    "\n",
    "  favs = favicon.get(url)\n",
    "  # print(favs)\n",
    "  match = 0\n",
    "  for favi in favs:\n",
    "    url2 = favi.url\n",
    "    extract_res = tldextract.extract(url2)\n",
    "    url_ref2 = extract_res.domain\n",
    "\n",
    "    if url_ref in url_ref2:\n",
    "      match += 1\n",
    "\n",
    "  if match >= len(favs)/2:\n",
    "    return 1\n",
    "  return -1"
   ]
  },
  {
   "cell_type": "code",
   "execution_count": null,
   "metadata": {
    "colab": {
     "base_uri": "https://localhost:8080/"
    },
    "id": "0IXev70XFpyh",
    "outputId": "04285e18-99c4-4606-c8f9-7a87b3aef69f"
   },
   "outputs": [],
   "source": [
    "url = \"https://www.iiitd.ac.in\"\n",
    "check_favicon(url)"
   ]
  },
  {
   "cell_type": "markdown",
   "metadata": {
    "id": "A8PqbI3niSFe"
   },
   "source": [
    "11. https as part of domain"
   ]
  },
  {
   "cell_type": "code",
   "execution_count": null,
   "metadata": {
    "id": "oU85miS7iPxv"
   },
   "outputs": [],
   "source": [
    "def existenceoftoken(u):\n",
    "    # Assumption - pagename cannot start with this token\n",
    "    ix = u.find(\"//https\")\n",
    "    # print(ix)\n",
    "    if(ix==-1):\n",
    "        return 1\n",
    "    else:\n",
    "        return -1"
   ]
  },
  {
   "cell_type": "code",
   "execution_count": null,
   "metadata": {
    "colab": {
     "base_uri": "https://localhost:8080/"
    },
    "id": "CChuiTMXDwR6",
    "outputId": "0d7182db-9bee-4b8a-b130-ba634d138b8f"
   },
   "outputs": [],
   "source": [
    "print(existenceoftoken(Normal_url))\n",
    "print(existenceoftoken(phish_url))"
   ]
  },
  {
   "cell_type": "markdown",
   "metadata": {
    "id": "P9M3FLmbE0uF"
   },
   "source": [
    "## Abnormal Based Features"
   ]
  },
  {
   "cell_type": "markdown",
   "metadata": {
    "id": "DbsvceEEK7eY"
   },
   "source": [
    "1. Request URL"
   ]
  },
  {
   "cell_type": "code",
   "execution_count": null,
   "metadata": {
    "id": "5hE-70CkMgUX"
   },
   "outputs": [],
   "source": [
    "def check_request_URL(url):\n",
    "  extract_res = tldextract.extract(url)\n",
    "  url_ref = extract_res.domain\n",
    "\n",
    "  command_stdout = Popen(['curl', 'https://api.hackertarget.com/pagelinks/?q=' + url], stdout=PIPE).communicate()[0]\n",
    "  links = command_stdout.decode('utf-8').split(\"\\n\")\n",
    "\n",
    "  count = 0\n",
    "\n",
    "  for link in links:\n",
    "    extract_res = tldextract.extract(link)\n",
    "    url_ref2 = extract_res.domain\n",
    "\n",
    "    if url_ref not in url_ref2:\n",
    "      count += 1\n",
    "\n",
    "  count /= len(links)\n",
    "\n",
    "  if count < 0.22:\n",
    "    return 1\n",
    "  elif count < 0.61:\n",
    "    return 0\n",
    "  else:\n",
    "    return -1"
   ]
  },
  {
   "cell_type": "code",
   "execution_count": null,
   "metadata": {
    "id": "3qv5yhwLLDBj"
   },
   "outputs": [],
   "source": [
    "url = \"https://xavier-net.gq/?login=do\""
   ]
  },
  {
   "cell_type": "code",
   "execution_count": null,
   "metadata": {
    "colab": {
     "base_uri": "https://localhost:8080/"
    },
    "id": "L3ZMYUdPFpwL",
    "outputId": "d6041313-56b1-44b6-c2f2-8082b3b62235"
   },
   "outputs": [],
   "source": [
    "check_request_URL(url)"
   ]
  },
  {
   "cell_type": "code",
   "execution_count": null,
   "metadata": {
    "colab": {
     "base_uri": "https://localhost:8080/"
    },
    "id": "pftyzqB8FcFC",
    "outputId": "14a5ba9a-8998-4f29-8bfc-0d6b26a44199"
   },
   "outputs": [],
   "source": [
    "print(check_request_URL(Normal_url))\n",
    "print(check_request_URL(phish_url))"
   ]
  },
  {
   "cell_type": "markdown",
   "metadata": {
    "id": "aZ-dtv6gO44X"
   },
   "source": [
    "2. URL of Anchor"
   ]
  },
  {
   "cell_type": "code",
   "execution_count": null,
   "metadata": {
    "id": "YlGcaOvLam7B"
   },
   "outputs": [],
   "source": [
    "def check_URL_of_anchor(url):\n",
    "  extract_res = tldextract.extract(url)\n",
    "  url_ref = extract_res.domain\n",
    "  # remove_last_underscore(url)\n",
    "  html_content = requests.get(url).text\n",
    "  soup = BeautifulSoup(html_content, \"lxml\")\n",
    "  a_tags = soup.find_all('a')\n",
    "\n",
    "  if len(a_tags) == 0:\n",
    "    return 1\n",
    "\n",
    "  invalid = ['#', '#content', '#skip', 'JavaScript::void(0)']\n",
    "  bad_count = 0\n",
    "  for t in a_tags:\n",
    "    link = t['href']\n",
    "\n",
    "    if link in invalid:\n",
    "      bad_count += 1\n",
    "\n",
    "    if url_validator(link):\n",
    "      extract_res = tldextract.extract(link)\n",
    "      url_ref2 = extract_res.domain\n",
    "\n",
    "      if url_ref not in url_ref2:\n",
    "        bad_count += 1\n",
    "\n",
    "  bad_count /= len(a_tags)\n",
    "\n",
    "  if bad_count < 0.31:\n",
    "    return 1\n",
    "  elif bad_count <= 0.67:\n",
    "    return 0\n",
    "  return -1"
   ]
  },
  {
   "cell_type": "code",
   "execution_count": null,
   "metadata": {
    "id": "5lHuDnnvsk7I"
   },
   "outputs": [],
   "source": [
    "def url_validator(url):\n",
    "    try:\n",
    "        result = urlparse(url)\n",
    "        return all([result.scheme, result.netloc, result.path])\n",
    "    except:\n",
    "        return False"
   ]
  },
  {
   "cell_type": "code",
   "execution_count": null,
   "metadata": {
    "colab": {
     "base_uri": "https://localhost:8080/"
    },
    "id": "usG_iM6LF92G",
    "outputId": "25654ccf-2dc4-41f7-ff85-cffd4fa24ebb"
   },
   "outputs": [],
   "source": [
    "print(check_URL_of_anchor(Normal_url))\n",
    "print(check_URL_of_anchor(phish_url))"
   ]
  },
  {
   "cell_type": "markdown",
   "metadata": {
    "id": "QhskTOjPk_un"
   },
   "source": [
    "3. Tags"
   ]
  },
  {
   "cell_type": "code",
   "execution_count": null,
   "metadata": {
    "id": "R6j_vjiAk_bE"
   },
   "outputs": [],
   "source": [
    "def tags(u):\n",
    "    programhtml = requests.get(u).text\n",
    "    s = BeautifulSoup(programhtml,\"lxml\")\n",
    "    mtags = s.find_all('Meta')\n",
    "    ud = tldextract.extract(u)\n",
    "    upage = ud.domain\n",
    "    mcount = 0\n",
    "    for i in mtags:\n",
    "        u1 = i['href']\n",
    "        currpage = tldextract.extract(u1)\n",
    "        u1page = currpage.domain\n",
    "        if currpage not in ulpage:\n",
    "            mcount+=1\n",
    "    scount = 0\n",
    "    stags = s.find_all('Script')\n",
    "    for j in stags:\n",
    "        u1 = j['href']\n",
    "        currpage = tldextract.extract(u1)\n",
    "        u1page = currpage.domain\n",
    "        if currpage not in u1page:\n",
    "            scount+=1\n",
    "    lcount = 0\n",
    "    ltags = s.find_all('Link')\n",
    "    for k in ltags:\n",
    "        u1 = k['href']\n",
    "        currpage = tldextract.extract(u1)\n",
    "        u1page = currpage.domain\n",
    "        if currpage not in u1page:\n",
    "            lcount+=1\n",
    "    percmtag = 0\n",
    "    percstag = 0\n",
    "    percltag = 0\n",
    "\n",
    "    if len(mtags) != 0:\n",
    "      percmtag = (mcount*100)//len(mtags)\n",
    "    if len(stags) != 0:\n",
    "      percstag = (scount*100)//len(stags)\n",
    "    if len(ltags) != 0:\n",
    "      percltag = (lcount*100)//len(ltags)\n",
    "      \n",
    "    if(percmtag+percstag+percltag<17):\n",
    "        return 1\n",
    "    elif(percmtag+percstag+percltag<=81):\n",
    "        return 0\n",
    "    return -1"
   ]
  },
  {
   "cell_type": "code",
   "execution_count": null,
   "metadata": {
    "colab": {
     "base_uri": "https://localhost:8080/"
    },
    "id": "kdk93flUGjXl",
    "outputId": "94e7d7f2-2385-440e-dfa8-3b3680a091de"
   },
   "outputs": [],
   "source": [
    "print(tags(Normal_url))\n",
    "print(tags(phish_url))"
   ]
  },
  {
   "cell_type": "markdown",
   "metadata": {
    "id": "G5_meAfNk0Iy"
   },
   "source": [
    "4. SFH"
   ]
  },
  {
   "cell_type": "code",
   "execution_count": null,
   "metadata": {
    "id": "nz3JGojVkywH"
   },
   "outputs": [],
   "source": [
    "def sfh(u):\n",
    "    programhtml = requests.get(u).text\n",
    "    s = BeautifulSoup(programhtml,\"lxml\")\n",
    "    try:\n",
    "        f = str(s.form)\n",
    "        ac = f.find(\"action\")\n",
    "        if(ac!=-1):\n",
    "            i1 = f[ac:].find(\">\")\n",
    "            u1 = f[ac+8:i1-1]\n",
    "            if(u1==\"\" or u1==\"about:blank\"):\n",
    "                return -1\n",
    "            er1 = tldextract.extract(u)\n",
    "            upage = erl.domain\n",
    "            erl2 = tldextract.extract(u1)\n",
    "            usfh = erl2.domain\n",
    "            if upage in usfh:\n",
    "                return 1\n",
    "            return 0\n",
    "        else:\n",
    "            # Check this point\n",
    "            return 1\n",
    "    except:\n",
    "        # Check this point\n",
    "        return 1"
   ]
  },
  {
   "cell_type": "code",
   "execution_count": null,
   "metadata": {
    "colab": {
     "base_uri": "https://localhost:8080/"
    },
    "id": "eFjCfPhcGykh",
    "outputId": "59ba54d2-b04f-4e49-c8bf-e8284af25a55"
   },
   "outputs": [],
   "source": [
    "print(sfh(Normal_url))\n",
    "print(sfh(phish_url))"
   ]
  },
  {
   "cell_type": "markdown",
   "metadata": {
    "id": "_4_oWGIzPlJv"
   },
   "source": [
    "5. Submitting to Email"
   ]
  },
  {
   "cell_type": "code",
   "execution_count": null,
   "metadata": {
    "id": "i7ZPjsz2QGLA"
   },
   "outputs": [],
   "source": [
    "def check_submit_to_email(url):\n",
    "  html_content = requests.get(url).text\n",
    "  soup = BeautifulSoup(html_content, \"lxml\")\n",
    "  # Check if no form tag\n",
    "  form_opt = str(soup.form)\n",
    "  idx = form_opt.find(\"mail()\")\n",
    "  if idx == -1:\n",
    "    idx = form_opt.find(\"mailto:\")\n",
    "\n",
    "  if idx == -1:\n",
    "    return 1\n",
    "  return -1"
   ]
  },
  {
   "cell_type": "code",
   "execution_count": null,
   "metadata": {
    "colab": {
     "base_uri": "https://localhost:8080/"
    },
    "id": "Hywp9MjNHDwM",
    "outputId": "342c54fb-4f9d-4243-8bca-6f0672093d4a"
   },
   "outputs": [],
   "source": [
    "print(check_submit_to_email(Normal_url))\n",
    "print(check_submit_to_email(phish_url))"
   ]
  },
  {
   "cell_type": "markdown",
   "metadata": {
    "id": "CLz9GnqdH9sp"
   },
   "source": [
    "## HTML and JavaScript based Features"
   ]
  },
  {
   "cell_type": "markdown",
   "metadata": {
    "id": "3ddho0L9Wxq5"
   },
   "source": [
    "1. Redirect"
   ]
  },
  {
   "cell_type": "code",
   "execution_count": null,
   "metadata": {
    "id": "gCqCUq6GQGag"
   },
   "outputs": [],
   "source": [
    "def redirect(url):\n",
    "  opt = Popen([\"sh\", \"/red.sh\", url], stdout=PIPE).communicate()[0]\n",
    "  opt = opt.decode('utf-8')\n",
    "  # print(opt)\n",
    "  opt = opt.split(\"\\n\")\n",
    "  \n",
    "  new = []\n",
    "  for i in opt:\n",
    "    i = i.replace(\"\\r\", \" \")\n",
    "    new.extend(i.split(\" \"))\n",
    "  \n",
    "\n",
    "  count = 0\n",
    "  for i in new:\n",
    "   \n",
    "    if i.isdigit():\n",
    "      conv = int(i)\n",
    "      if conv > 300 and conv<310:\n",
    "        count += 1\n",
    "\n",
    "  last_url = None\n",
    "  for i in new[::-1]:\n",
    "    if url_validator(i):\n",
    "      last_url = i\n",
    "      break\n",
    "\n",
    "  if (count<=1):\n",
    "    return 1, last_url\n",
    "  elif count>=2 and count <4:\n",
    "    return 0, last_url\n",
    "  return -1, last_url"
   ]
  },
  {
   "cell_type": "code",
   "execution_count": null,
   "metadata": {
    "id": "dOh4mFIfq67y"
   },
   "outputs": [],
   "source": [
    "ur = \"https://bit.ly/segfault\""
   ]
  },
  {
   "cell_type": "code",
   "execution_count": null,
   "metadata": {
    "id": "ufN33EVuqPQo"
   },
   "outputs": [],
   "source": [
    "phish_url2 = \"https://oxify.me/tuT2y\""
   ]
  },
  {
   "cell_type": "code",
   "execution_count": null,
   "metadata": {
    "colab": {
     "base_uri": "https://localhost:8080/"
    },
    "id": "nY0v1wE0qQeC",
    "outputId": "8ed81914-ab2f-467e-dde3-b2b40ecf910f"
   },
   "outputs": [],
   "source": [
    "redirect(ur)"
   ]
  },
  {
   "cell_type": "code",
   "execution_count": null,
   "metadata": {
    "colab": {
     "base_uri": "https://localhost:8080/"
    },
    "id": "PBCqzGg_IS2l",
    "outputId": "9f5503bb-fd71-4adb-97cd-e0956faaba78"
   },
   "outputs": [],
   "source": [
    "print(redirect(Normal_url))\n",
    "print(redirect(phish_url))"
   ]
  },
  {
   "cell_type": "markdown",
   "metadata": {
    "id": "ZC7840KX47Sr"
   },
   "source": [
    "2. On mouseover"
   ]
  },
  {
   "cell_type": "code",
   "execution_count": null,
   "metadata": {
    "id": "dZbC8DmS0yda"
   },
   "outputs": [],
   "source": [
    "def check_onmouseover(url):\n",
    "  try:\n",
    "    html_content = requests.get(url).text\n",
    "  except:\n",
    "    return -1\n",
    "  soup = BeautifulSoup(html_content, \"lxml\")\n",
    "  if str(soup).lower().find('onmouseover=\"window.status') != -1:\n",
    "    return -1\n",
    "  return 1"
   ]
  },
  {
   "cell_type": "code",
   "execution_count": null,
   "metadata": {
    "colab": {
     "base_uri": "https://localhost:8080/"
    },
    "id": "ufk03bhj0yYv",
    "outputId": "38c249a5-c895-4aa2-8bbb-57f6a8d33437"
   },
   "outputs": [],
   "source": [
    "url = \"https://google.com\"\n",
    "check_onmouseover(url)"
   ]
  },
  {
   "cell_type": "code",
   "execution_count": null,
   "metadata": {
    "colab": {
     "base_uri": "https://localhost:8080/"
    },
    "id": "tuAaRlpJK75E",
    "outputId": "9760a217-f063-4fbc-d591-cae0aacdef6b"
   },
   "outputs": [],
   "source": [
    "print(check_onmouseover(Normal_url))\n",
    "print(check_onmouseover(phish_url))"
   ]
  },
  {
   "cell_type": "markdown",
   "metadata": {
    "id": "Xwoy5lGS0sNa"
   },
   "source": [
    "3. Rightclick"
   ]
  },
  {
   "cell_type": "code",
   "execution_count": null,
   "metadata": {
    "id": "D7UNr4-20x1K"
   },
   "outputs": [],
   "source": [
    "def check_rightclick(url):\n",
    "  html_content = requests.get(url).text\n",
    "  soup = BeautifulSoup(html_content, \"lxml\")\n",
    "  if str(soup).lower().find(\"preventdefault()\") != -1:\n",
    "    return -1\n",
    "  elif str(soup).lower().find(\"event.button==2\") != -1:\n",
    "    return -1\n",
    "  elif str(soup).lower().find(\"event.button == 2\") != -1:\n",
    "    return -1\n",
    "  return 1"
   ]
  },
  {
   "cell_type": "code",
   "execution_count": null,
   "metadata": {
    "colab": {
     "base_uri": "https://localhost:8080/"
    },
    "id": "LEHHskOp0yhD",
    "outputId": "1049a264-8a9e-4c84-e49c-3dfc6fe11bca"
   },
   "outputs": [],
   "source": [
    "check_rightclick(Normal_url)"
   ]
  },
  {
   "cell_type": "code",
   "execution_count": null,
   "metadata": {
    "colab": {
     "base_uri": "https://localhost:8080/"
    },
    "id": "uQx_ECG5LU7k",
    "outputId": "4c927893-3749-4877-e9c1-2773de0ded44"
   },
   "outputs": [],
   "source": [
    "check_rightclick(phish_url)"
   ]
  },
  {
   "cell_type": "markdown",
   "metadata": {
    "id": "my5Rk-dyjOH3"
   },
   "source": [
    "4. IFrame"
   ]
  },
  {
   "cell_type": "code",
   "execution_count": null,
   "metadata": {
    "id": "X-U_jzAifKUo"
   },
   "outputs": [],
   "source": [
    "def check_iframe(url):\n",
    "  html_content = requests.get(url).text\n",
    "  soup = BeautifulSoup(html_content, \"lxml\")\n",
    "  if str(soup.iframe).lower().find(\"frameborder\") == -1:\n",
    "    return 1\n",
    "  return -1"
   ]
  },
  {
   "cell_type": "code",
   "execution_count": null,
   "metadata": {
    "colab": {
     "base_uri": "https://localhost:8080/"
    },
    "id": "K5OCzARzfKRL",
    "outputId": "4387175e-6245-41f1-d0bf-f014bfe64f7f"
   },
   "outputs": [],
   "source": [
    "check_iframe(\"https://www.google.com\")"
   ]
  },
  {
   "cell_type": "markdown",
   "metadata": {
    "id": "svK3a4TtMB8a"
   },
   "source": [
    "## Domain based Features"
   ]
  },
  {
   "cell_type": "markdown",
   "metadata": {
    "id": "-DydzM1Pe5Os"
   },
   "source": [
    "1. Age of Domain"
   ]
  },
  {
   "cell_type": "code",
   "execution_count": null,
   "metadata": {
    "id": "wLRxgyTtpiJ1"
   },
   "outputs": [],
   "source": [
    "url = 'https://xavier-net.gq/?login=do'"
   ]
  },
  {
   "cell_type": "code",
   "execution_count": null,
   "metadata": {
    "id": "sWVPl7gEqoFq"
   },
   "outputs": [],
   "source": [
    "def check_age_of_domain(url):\n",
    "  extract_res = tldextract.extract(url)\n",
    "  url_ref = extract_res.domain + \".\" + extract_res.suffix\n",
    "  try:\n",
    "    whois_res = whois.whois(url)\n",
    "    if datetime.datetime.now() > whois_res[\"creation_date\"][0] + relativedelta(months=+6):\n",
    "      return 1\n",
    "    else:\n",
    "      return -1\n",
    "  except:\n",
    "    return -1"
   ]
  },
  {
   "cell_type": "code",
   "execution_count": null,
   "metadata": {
    "colab": {
     "base_uri": "https://localhost:8080/"
    },
    "id": "ac6P3uGBfKYG",
    "outputId": "5e004321-2c93-496b-82bf-8f8edfd41ac1"
   },
   "outputs": [],
   "source": [
    "check_age_of_domain(url)"
   ]
  },
  {
   "cell_type": "code",
   "execution_count": null,
   "metadata": {
    "colab": {
     "base_uri": "https://localhost:8080/"
    },
    "id": "I9YThriOMd9l",
    "outputId": "5d19c13c-517b-4777-f14e-e71012fe05ac"
   },
   "outputs": [],
   "source": [
    "print(check_age_of_domain(Normal_url))\n",
    "print(check_age_of_domain(phish_url))"
   ]
  },
  {
   "cell_type": "markdown",
   "metadata": {
    "id": "WduYphbLqhco"
   },
   "source": [
    "2. DNS Record"
   ]
  },
  {
   "cell_type": "code",
   "execution_count": null,
   "metadata": {
    "colab": {
     "base_uri": "https://localhost:8080/"
    },
    "id": "s6RZjSQ4Mcmo",
    "outputId": "f6d41626-9f8c-4979-b27c-50de51376c5a"
   },
   "outputs": [],
   "source": [
    "!apt-get install whois"
   ]
  },
  {
   "cell_type": "code",
   "execution_count": null,
   "metadata": {
    "colab": {
     "base_uri": "https://localhost:8080/"
    },
    "id": "CEiHGS-WLjyJ",
    "outputId": "a7c6b27e-a076-4e6b-fc75-c068056adef4"
   },
   "outputs": [],
   "source": [
    "!pip install python-whois"
   ]
  },
  {
   "cell_type": "code",
   "execution_count": null,
   "metadata": {
    "id": "-UGufC8AeI3h"
   },
   "outputs": [],
   "source": [
    "def check_dns_record(url):\n",
    "  extract_res = tldextract.extract(url)\n",
    "  url_ref = extract_res.domain + \".\" + extract_res.suffix\n",
    "  try:\n",
    "    whois_res = whois.whois(url)\n",
    "    return 1\n",
    "  except:\n",
    "    return -1"
   ]
  },
  {
   "cell_type": "code",
   "execution_count": null,
   "metadata": {
    "colab": {
     "base_uri": "https://localhost:8080/"
    },
    "id": "WlUCJnM6qoQ2",
    "outputId": "008e1a3c-0346-44cc-dd6b-f70c0cd9e4df"
   },
   "outputs": [],
   "source": [
    "url = \"goiigle.com\"\n",
    "check_dns_record(url)"
   ]
  },
  {
   "cell_type": "code",
   "execution_count": null,
   "metadata": {
    "colab": {
     "base_uri": "https://localhost:8080/"
    },
    "id": "ahG95JY-M80w",
    "outputId": "08b983ac-0640-4286-bd2b-79bd5774e855"
   },
   "outputs": [],
   "source": [
    "print(check_dns_record(Normal_url))\n",
    "print(check_dns_record(phish_url))"
   ]
  },
  {
   "cell_type": "markdown",
   "metadata": {
    "id": "5a_MWwjheeP-"
   },
   "source": [
    "3. Web traffic"
   ]
  },
  {
   "cell_type": "code",
   "execution_count": null,
   "metadata": {
    "id": "NqfGV_hCjtCy"
   },
   "outputs": [],
   "source": [
    "def check_web_traffic(url):\n",
    "  extract_res = tldextract.extract(url)\n",
    "  url_ref = extract_res.domain + \".\" + extract_res.suffix\n",
    "  html_content = requests.get(\"https://www.alexa.com/siteinfo/\" + url_ref).text\n",
    "  soup = BeautifulSoup(html_content, \"lxml\")\n",
    "  value = str(soup.find('div', {'class': \"rankmini-rank\"}))[42:].split(\"\\n\")[0].replace(\",\", \"\")\n",
    "\n",
    "  if not value.isdigit():\n",
    "    return -1\n",
    "\n",
    "  value = int(value)\n",
    "  if value < 100000:\n",
    "    return 1\n",
    "  return 0"
   ]
  },
  {
   "cell_type": "code",
   "execution_count": null,
   "metadata": {
    "id": "jqIvt_DVfy8Y"
   },
   "outputs": [],
   "source": [
    "url = \"https://hokk-i.com\""
   ]
  },
  {
   "cell_type": "code",
   "execution_count": null,
   "metadata": {
    "colab": {
     "base_uri": "https://localhost:8080/"
    },
    "id": "SW34EuowYgAD",
    "outputId": "10c12b3a-69ca-41a0-dc10-e5f32da4dbd8"
   },
   "outputs": [],
   "source": [
    "check_web_traffic(url)"
   ]
  },
  {
   "cell_type": "code",
   "execution_count": null,
   "metadata": {
    "colab": {
     "base_uri": "https://localhost:8080/"
    },
    "id": "xCgXgkHVNNGf",
    "outputId": "3fe0bc4f-3f39-4871-e5cf-f021e343f9a8"
   },
   "outputs": [],
   "source": [
    "print(check_web_traffic(Normal_url))\n",
    "print(check_web_traffic(phish_url))"
   ]
  },
  {
   "cell_type": "markdown",
   "metadata": {
    "id": "jVD7BFBM-57v"
   },
   "source": [
    "4. PageRank"
   ]
  },
  {
   "cell_type": "code",
   "execution_count": null,
   "metadata": {
    "colab": {
     "base_uri": "https://localhost:8080/"
    },
    "id": "CaeBhvIPIHAy",
    "outputId": "30069b51-0fed-4f52-d9b9-3927297a60f0"
   },
   "outputs": [],
   "source": [
    "!pip install tldextract"
   ]
  },
  {
   "cell_type": "code",
   "execution_count": null,
   "metadata": {
    "id": "1G-bFmxYuH07"
   },
   "outputs": [],
   "source": [
    "import tldextract\n",
    "import requests"
   ]
  },
  {
   "cell_type": "code",
   "execution_count": null,
   "metadata": {
    "id": "L4L61JisYHbW"
   },
   "outputs": [],
   "source": [
    "def get_pagerank(url):\n",
    "  # pageRankApi = open('/pageRankApi').readline()[:-2]\n",
    "  extract_res = tldextract.extract(url)\n",
    "  url_ref = extract_res.domain + \".\" + extract_res.suffix\n",
    "  # headers = {'API-OPR': pageRankApi}\n",
    "  headers = {'API-OPR':'4sgws8wocsc0oskgs4gsoo8gos88sg44gsk4s484'}\n",
    "  domain = url_ref\n",
    "  req_url = 'https://openpagerank.com/api/v1.0/getPageRank?domains%5B0%5D=' + domain\n",
    "  request = requests.get(req_url, headers=headers)\n",
    "  result = request.json()\n",
    "  # print(result)\n",
    "  value = result['response'][0]['page_rank_decimal']\n",
    "  if type(value) == str:\n",
    "    value = 0\n",
    "\n",
    "  if value < 2:\n",
    "    return -1\n",
    "  return 1\n"
   ]
  },
  {
   "cell_type": "code",
   "execution_count": null,
   "metadata": {
    "colab": {
     "base_uri": "https://localhost:8080/"
    },
    "id": "LlKi6YTEIsMk",
    "outputId": "f73a385c-3b35-463a-d32d-034b554437ca"
   },
   "outputs": [],
   "source": [
    "get_pagerank(\"https://linked.in\")"
   ]
  },
  {
   "cell_type": "code",
   "execution_count": null,
   "metadata": {
    "colab": {
     "base_uri": "https://localhost:8080/"
    },
    "id": "L1j4g0ygLD10",
    "outputId": "d2432405-e5d6-4b33-fbba-93b43e54112e"
   },
   "outputs": [],
   "source": [
    "print(get_pagerank(Normal_url))\n",
    "print(get_pagerank(phish_url))"
   ]
  },
  {
   "cell_type": "markdown",
   "metadata": {
    "id": "SpUAi_ch-yXQ"
   },
   "source": [
    "5. Statistical Reports"
   ]
  },
  {
   "cell_type": "code",
   "execution_count": null,
   "metadata": {
    "id": "gpzu9piAJ9lS"
   },
   "outputs": [],
   "source": [
    "import xml.etree.ElementTree as ET"
   ]
  },
  {
   "cell_type": "code",
   "execution_count": null,
   "metadata": {
    "id": "VHHIjGKe91Q6"
   },
   "outputs": [],
   "source": [
    "def check_statistical_report(url):\n",
    "  # # phishTankKey = open('/phishTankKey.txt')\n",
    "  # # phishTankKey = phishTankKey.readline()[:-1]\n",
    "\n",
    "  # headers = {\n",
    "  #       'format': 'json',\n",
    "  #       'app_key': '',\n",
    "  #       }\n",
    "\n",
    "  # def get_url_with_ip(URI):\n",
    "  #     \"\"\"Returns url with added URI for request\"\"\"\n",
    "  #     url = \"http://checkurl.phishtank.com/checkurl/\"\n",
    "  #     new_check_bytes = URI.encode()\n",
    "  #     base64_bytes = base64.b64encode(new_check_bytes)\n",
    "  #     base64_new_check = base64_bytes.decode('ascii')\n",
    "  #     url += base64_new_check\n",
    "  #     return url\n",
    "\n",
    "  # def send_the_request_to_phish_tank(url, headers):\n",
    "  #     \"\"\"This function sends a request.\"\"\"\n",
    "  #     response = requests.request(\"POST\", url=url, headers=headers)\n",
    "  #     return response\n",
    "\n",
    "  # url = get_url_with_ip(url)\n",
    "  # print(url)\n",
    "  # r = send_the_request_to_phish_tank(url, headers)\n",
    "  # print(r)\n",
    "  # def parseXML(xmlfile): \n",
    "\n",
    "  #   root = ET.fromstring(xmlfile) \n",
    "  #   verified = False\n",
    "  #   for item in root.iter('verified'): \n",
    "  #     if item.text == \"true\":\n",
    "  #       verified = True\n",
    "  #       break\n",
    "\n",
    "  #   phishing = False\n",
    "  #   if verified:\n",
    "  #     for item in root.iter('valid'): \n",
    "  #       if item.text == \"true\":\n",
    "  #         phishing = True\n",
    "  #         break\n",
    "\n",
    "  #   return phishing\n",
    "\n",
    "  # inphTank = parseXML(r.text)\n",
    "  # # print(r.text)\n",
    "\n",
    "  # if inphTank:\n",
    "  #   return -1\n",
    "  return 1"
   ]
  },
  {
   "cell_type": "code",
   "execution_count": null,
   "metadata": {
    "colab": {
     "base_uri": "https://localhost:8080/"
    },
    "id": "Zsy_200mQGfz",
    "outputId": "0d4cc2f7-66cf-4c56-e26e-9ffd46f4fd78"
   },
   "outputs": [],
   "source": [
    "check_statistical_report(\"https://www.kaggle.com/akashkr/phishing-url-eda-and-modelling\")\n",
    "# check_statistical_report('https://espace-facturation-9c8a01.ingress-erytho.easywp.com/org/customer_center/customer-IDPP00C793/login.php')"
   ]
  },
  {
   "cell_type": "code",
   "execution_count": null,
   "metadata": {
    "id": "MTTItmhFK_-G"
   },
   "outputs": [],
   "source": [
    "Normal_url ='http://intego3.info/EXEL/index.php'\n",
    "phish_url = 'https://www.computerhope.com/issues/ch000254.htm'"
   ]
  },
  {
   "cell_type": "code",
   "execution_count": null,
   "metadata": {
    "colab": {
     "base_uri": "https://localhost:8080/"
    },
    "id": "fEkxmXG1LB6J",
    "outputId": "8a6e8761-7c5b-4c66-f9fe-17ddc3a725f7"
   },
   "outputs": [],
   "source": [
    "print(check_statistical_report(Normal_url))\n",
    "print(check_statistical_report(phish_url))"
   ]
  },
  {
   "cell_type": "markdown",
   "metadata": {
    "id": "lh0TytXF1SAN"
   },
   "source": [
    "6. Number of Links Pointing to Page"
   ]
  },
  {
   "cell_type": "code",
   "execution_count": null,
   "metadata": {
    "id": "PdN86GtFzCL0"
   },
   "outputs": [],
   "source": [
    "import urllib.request as Ureq\n",
    "import requests\n",
    "from bs4 import BeautifulSoup as bs\n",
    "from urllib.parse import urlparse\n",
    "def task(url):\n",
    "    # x=Ureq.urlopen(url)\n",
    "    # print (\"Total Size of the Web Page = \",len(x.read()),\" Bytes\")\n",
    "    url_p=urlparse(url)\n",
    "    domain='{uri.scheme}://{uri.netloc}/'.format(uri=url_p)\n",
    "    # print (domain)\n",
    "    resp=requests.get(url)\n",
    "    soup=bs(resp.text,'html.parser')\n",
    "    r=0\n",
    "    for link in soup.find_all('a'):\n",
    "        temp=link.get('href')\n",
    "        if temp is not None and domain in temp:\n",
    "          # print(temp)\n",
    "          r=r+1\n",
    "        # print(temp)\n",
    "        # r=r+1\n",
    "    # print(\"Total links pointing to same domain = \",r)\n",
    "    if r > 2:\n",
    "      return 1\n",
    "    return -1\n"
   ]
  },
  {
   "cell_type": "code",
   "execution_count": null,
   "metadata": {
    "id": "8r0P5JBl0hrz"
   },
   "outputs": [],
   "source": [
    "Normal_url ='http://intego3.info/EXEL/index.php'\n",
    "phish_url = 'https://www.computerhope.com/issues/ch000254.htm'"
   ]
  },
  {
   "cell_type": "code",
   "execution_count": null,
   "metadata": {
    "colab": {
     "base_uri": "https://localhost:8080/"
    },
    "id": "1IH2MOkRzVzg",
    "outputId": "b8087e46-604e-4634-ea0a-b2c1d101bcd4"
   },
   "outputs": [],
   "source": [
    "task('https://www.youtube.com/results?search_query=page+rank+implementaton+via+page+rank+API+using+python')\n",
    "print(task(Normal_url))\n",
    "print(task(phish_url))"
   ]
  },
  {
   "cell_type": "markdown",
   "metadata": {
    "id": "1ORI8Nzc1ZAk"
   },
   "source": [
    "5. Google Index"
   ]
  },
  {
   "cell_type": "code",
   "execution_count": null,
   "metadata": {
    "id": "BTyr2ao83qsl"
   },
   "outputs": [],
   "source": [
    "def extract_features(url):\n",
    "  features_extracted = [0]*27\n",
    "  # phStatus, expanded = check_for_shortened_url(url)\n",
    "  # features_extracted[2] = phStatus\n",
    "  # phStatus, last_url = redirect(url)\n",
    "  # features_extracted[16] = phStatus\n",
    "  # if expanded is not None:\n",
    "  #   if len(expanded) >= len(url):\n",
    "  #     url = expanded\n",
    "\n",
    "  # if last_url is not None:\n",
    "  #   if len(last_url) > len(url):\n",
    "  #     url = last_url\n",
    "  # print(url)\n",
    "  features_extracted[0] = to_find_having_ip_add(url)\n",
    "  features_extracted[1] = to_find_url_len(url)\n",
    "  phStatus, expanded    = check_for_shortened_url(url)\n",
    "  features_extracted[2] = phStatus\n",
    "  features_extracted[3]  = to_find_at(url)\n",
    "  features_extracted[4] = to_find_redirect(url)\n",
    "  features_extracted[5] = to_find_prefix(url)\n",
    "  features_extracted[6] = to_find_multi_domains(url)\n",
    "  features_extracted[7] = to_find_authority(url)\n",
    "  features_extracted[8] = dregisterlen(url)\n",
    "  # features_extracted[9] = check_favicon(url)\n",
    "  features_extracted[10] = existenceoftoken(url)\n",
    "  features_extracted[11] = check_request_URL(url)\n",
    "  try:\n",
    "    features_extracted[12] =  check_URL_of_anchor(url)\n",
    "  except:\n",
    "    features_extracted[12] = '2' \n",
    "\n",
    "  features_extracted[13] = tags(url)\n",
    "  features_extracted[14] = sfh(url)\n",
    "  features_extracted[15] = check_submit_to_email(url)\n",
    "  phStatus, last_url     = redirect(url)\n",
    "  features_extracted[16] = phStatus\n",
    "  features_extracted[17] = check_onmouseover(url)\n",
    "  features_extracted[18] = check_rightclick(url)\n",
    "  features_extracted[19] = check_iframe(url)\n",
    "  features_extracted[20] = check_age_of_domain(url)\n",
    "  features_extracted[21] = check_dns_record(url)\n",
    "  features_extracted[22] = check_web_traffic(url)\n",
    "  features_extracted[23] = get_pagerank(url)\n",
    "  features_extracted[24] = task(url)\n",
    "  features_extracted[25] = check_statistical_report(url)\n",
    "  \n",
    "\n",
    "  return features_extracted"
   ]
  },
  {
   "cell_type": "code",
   "execution_count": null,
   "metadata": {
    "id": "j_3opDlPoYt2"
   },
   "outputs": [],
   "source": [
    "valid_url = \"https://cse.iiitd.ac.in/\""
   ]
  },
  {
   "cell_type": "code",
   "execution_count": null,
   "metadata": {
    "id": "WniS5bwBoYp1"
   },
   "outputs": [],
   "source": [
    "phish_url = \"https://xavier-net.gq/?login=do\""
   ]
  },
  {
   "cell_type": "code",
   "execution_count": null,
   "metadata": {
    "id": "ANW0gzsCorq-"
   },
   "outputs": [],
   "source": [
    "valid_url2 = \"https://bit.ly/segfault\""
   ]
  },
  {
   "cell_type": "code",
   "execution_count": null,
   "metadata": {
    "id": "c7dVP5Lgorlf"
   },
   "outputs": [],
   "source": [
    "phish_url2 = \"http://125.98.3.123/fake.html\""
   ]
  },
  {
   "cell_type": "code",
   "execution_count": null,
   "metadata": {
    "id": "RbPbctJK1FhW"
   },
   "outputs": [],
   "source": [
    "def convertEncodingToPositive(data):\n",
    "  mapping = {-1: 0, 1: 1}\n",
    "  i = 0\n",
    "  for col in data:\n",
    "    data[i] = mapping[col]\n",
    "    i+=1\n",
    "  return data"
   ]
  },
  {
   "cell_type": "code",
   "execution_count": null,
   "metadata": {
    "id": "oaGR1eM_dAVk"
   },
   "outputs": [],
   "source": [
    "features_extracted = []"
   ]
  },
  {
   "cell_type": "code",
   "execution_count": null,
   "metadata": {},
   "outputs": [],
   "source": [
    "import pandas as pd"
   ]
  },
  {
   "cell_type": "code",
   "execution_count": null,
   "metadata": {},
   "outputs": [],
   "source": [
    "filename = r\"C:\\Users\\asodh\\URL_Small.csv\""
   ]
  },
  {
   "cell_type": "code",
   "execution_count": null,
   "metadata": {
    "id": "ZUOxHEZ4nu-z"
   },
   "outputs": [],
   "source": [
    "URL = pd.read_csv(filename)"
   ]
  },
  {
   "cell_type": "code",
   "execution_count": null,
   "metadata": {
    "colab": {
     "base_uri": "https://localhost:8080/",
     "height": 424
    },
    "id": "EdbR-GAopKRS",
    "outputId": "559aaedc-e8de-4af0-e2a9-286885fbd928"
   },
   "outputs": [],
   "source": [
    "URL"
   ]
  },
  {
   "cell_type": "code",
   "execution_count": null,
   "metadata": {
    "id": "26Hr4gTv4Zh1"
   },
   "outputs": [],
   "source": [
    "features_extracted_r = []"
   ]
  },
  {
   "cell_type": "code",
   "execution_count": null,
   "metadata": {
    "colab": {
     "base_uri": "https://localhost:8080/",
     "height": 380
    },
    "id": "C-J15w3ioe2w",
    "outputId": "8f79a479-ea7e-43d8-e63a-15b3591d821f"
   },
   "outputs": [],
   "source": [
    "for col in  URL.index :\n",
    "  # print(col)\n",
    "  # print(URL['URL'][col])\n",
    "  if col >=1:\n",
    "    web = URL['URL'][col]\n",
    "    # print(web)\n",
    "    # remove_last_underscore(web)\n",
    "    # print(web)\n",
    "    web = URL['URL'][col]\n",
    "    # check_URL(web)\n",
    "    # print(check_URL(web))\n",
    "    try:\n",
    "      r = requests.get(web) \n",
    "    except:\n",
    "      r = 'Invalid'\n",
    "    if r != 'Invalid': \n",
    "      features_extracted_r = extract_features(web)\n",
    "      features_extracted_r[26] = URL['Label'][col]\n",
    "      features_extracted.append(features_extracted_r) "
   ]
  },
  {
   "cell_type": "code",
   "execution_count": null,
   "metadata": {
    "id": "LVjk8K1NtWwU"
   },
   "outputs": [],
   "source": [
    "web"
   ]
  },
  {
   "cell_type": "code",
   "execution_count": null,
   "metadata": {
    "id": "beqYiLPc5VyS"
   },
   "outputs": [],
   "source": [
    "   # features_extracted_r = extract_features(valid_url2)"
   ]
  },
  {
   "cell_type": "code",
   "execution_count": null,
   "metadata": {
    "id": "kOkLc0-84wFZ"
   },
   "outputs": [],
   "source": [
    "# features_extracted_r"
   ]
  },
  {
   "cell_type": "code",
   "execution_count": null,
   "metadata": {
    "id": "LDJyuPuFdLaW"
   },
   "outputs": [],
   "source": [
    "# features_extracted.append(features_extracted_r)"
   ]
  },
  {
   "cell_type": "code",
   "execution_count": null,
   "metadata": {
    "id": "jymKWu7gdsLr"
   },
   "outputs": [],
   "source": [
    "features_extracted"
   ]
  },
  {
   "cell_type": "code",
   "execution_count": null,
   "metadata": {
    "colab": {
     "base_uri": "https://localhost:8080/"
    },
    "id": "z5LqiCXL55_W",
    "outputId": "fb7f224a-2976-4d26-d17f-f23ce5d5e2e1"
   },
   "outputs": [],
   "source": [
    " print(type(features_extracted)) "
   ]
  },
  {
   "cell_type": "code",
   "execution_count": null,
   "metadata": {
    "colab": {
     "base_uri": "https://localhost:8080/"
    },
    "id": "1cYM3z0eNBvA",
    "outputId": "456ca174-671a-493a-ca45-39f328390f7d"
   },
   "outputs": [],
   "source": [
    "df = pd.DataFrame(features_extracted, columns =['having_IP_Address', 'URL_Length', 'Shortining_Service',\n",
    "       'having_At_Symbol', 'double_slash_redirecting', 'Prefix_Suffix',\n",
    "       'having_Sub_Domain', 'SSLfinal_State', 'Domain_registeration_length',\n",
    "       'Favion', 'HTTPS_token', 'Request_URL', 'URL_of_Anchor',\n",
    "       'Links_in_tags', 'SFH', 'Submitting_to_email', 'Redirect', 'on_mouseover', 'RightClick',\n",
    "       'age_of_domain', 'DNSRecord', 'web_traffic', 'Page_Rank',\n",
    "       'Google_Index', 'link', 'Statistical_report', 'Label']) \n",
    "print(df)"
   ]
  },
  {
   "cell_type": "code",
   "execution_count": null,
   "metadata": {
    "id": "cYStHXScN4X-"
   },
   "outputs": [],
   "source": [
    "df.drop_duplicates(keep=False,inplace=True)"
   ]
  },
  {
   "cell_type": "code",
   "execution_count": null,
   "metadata": {
    "colab": {
     "base_uri": "https://localhost:8080/"
    },
    "id": "8X_q1ufg2ura",
    "outputId": "c3cccf0f-01b8-42b0-bd80-8ad462011a5f"
   },
   "outputs": [],
   "source": [
    "print(df)"
   ]
  },
  {
   "cell_type": "code",
   "execution_count": null,
   "metadata": {
    "id": "lgbbfQY0Rrib"
   },
   "outputs": [],
   "source": [
    "# import pandas as pd\n",
    "# cities = pd.DataFrame([['Sacramento', 'California'], ['Miami', 'Florida']], columns=['City', 'State'])\n",
    "df.to_csv('Data_extracted.csv')"
   ]
  },
  {
   "cell_type": "code",
   "execution_count": null,
   "metadata": {
    "id": "aFPQRcsH1FfO"
   },
   "outputs": [],
   "source": [
    "# features_extracted = convertEncodingToPositive(features_extracted)"
   ]
  },
  {
   "cell_type": "code",
   "execution_count": null,
   "metadata": {
    "id": "UBLJnEDG1FcS"
   },
   "outputs": [],
   "source": [
    "# features_extracted"
   ]
  },
  {
   "cell_type": "code",
   "execution_count": null,
   "metadata": {
    "id": "vH6G2RrH2AhL"
   },
   "outputs": [],
   "source": [
    "# from sklearn.preprocessing import OneHotEncoder"
   ]
  },
  {
   "cell_type": "code",
   "execution_count": null,
   "metadata": {
    "id": "VLOxydzm3GmS"
   },
   "outputs": [],
   "source": [
    "# import numpy as np"
   ]
  },
  {
   "cell_type": "code",
   "execution_count": null,
   "metadata": {
    "id": "FJNJjKJu2Aeu"
   },
   "outputs": [],
   "source": [
    "# import pickle"
   ]
  },
  {
   "cell_type": "code",
   "execution_count": null,
   "metadata": {
    "id": "qGbnYMox2Abd"
   },
   "outputs": [],
   "source": [
    "# one_hot_enc = pickle.load(open(\"/One_Hot_Encoder\", \"rb\"))"
   ]
  },
  {
   "cell_type": "code",
   "execution_count": null,
   "metadata": {
    "id": "U4s6Oxic2oxC"
   },
   "outputs": [],
   "source": [
    "# transformed_point = one_hot_enc.transform(np.array(features_extracted).reshape(1, -1))"
   ]
  },
  {
   "cell_type": "code",
   "execution_count": null,
   "metadata": {
    "id": "kruhe3OV2ou8"
   },
   "outputs": [],
   "source": [
    "# transformed_point"
   ]
  },
  {
   "cell_type": "code",
   "execution_count": null,
   "metadata": {
    "id": "Epe7ivis2osn"
   },
   "outputs": [],
   "source": [
    "# model = pickle.load(open(\"/SVM_Final_Model\", \"rb\"))"
   ]
  },
  {
   "cell_type": "code",
   "execution_count": null,
   "metadata": {
    "id": "3gugOgE72opN"
   },
   "outputs": [],
   "source": [
    "# model.predict(transformed_point)"
   ]
  },
  {
   "cell_type": "code",
   "execution_count": null,
   "metadata": {
    "id": "JYYy9A_-oIay"
   },
   "outputs": [],
   "source": [
    "# import sklearn"
   ]
  },
  {
   "cell_type": "code",
   "execution_count": null,
   "metadata": {
    "id": "WKggDF-poGV_"
   },
   "outputs": [],
   "source": [
    "# sklearn_version = sklearn.__version__\n",
    "\n",
    "print(sklearn_version)"
   ]
  }
 ],
 "metadata": {
  "colab": {
   "collapsed_sections": [],
   "name": "Features_For_New_DataPoint.ipynb",
   "provenance": []
  },
  "kernelspec": {
   "display_name": "Python 3 (ipykernel)",
   "language": "python",
   "name": "python3"
  },
  "language_info": {
   "codemirror_mode": {
    "name": "ipython",
    "version": 3
   },
   "file_extension": ".py",
   "mimetype": "text/x-python",
   "name": "python",
   "nbconvert_exporter": "python",
   "pygments_lexer": "ipython3",
   "version": "3.9.7"
  }
 },
 "nbformat": 4,
 "nbformat_minor": 1
}
